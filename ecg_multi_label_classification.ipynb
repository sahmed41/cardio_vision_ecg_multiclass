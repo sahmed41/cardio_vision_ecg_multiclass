{
  "nbformat": 4,
  "nbformat_minor": 0,
  "metadata": {
    "colab": {
      "provenance": [],
      "authorship_tag": "ABX9TyN3n/0Ui2V1GJwcIKOvL7Zr",
      "include_colab_link": true
    },
    "kernelspec": {
      "name": "python3",
      "display_name": "Python 3"
    },
    "language_info": {
      "name": "python"
    }
  },
  "cells": [
    {
      "cell_type": "markdown",
      "metadata": {
        "id": "view-in-github",
        "colab_type": "text"
      },
      "source": [
        "<a href=\"https://colab.research.google.com/github/sahmed41/cardio_vision_ecg_multiclass/blob/main/ecg_multi_label_classification.ipynb\" target=\"_parent\"><img src=\"https://colab.research.google.com/assets/colab-badge.svg\" alt=\"Open In Colab\"/></a>"
      ]
    },
    {
      "cell_type": "markdown",
      "source": [
        "**Installing Kaggle**"
      ],
      "metadata": {
        "id": "QoevrnGa3Jiu"
      }
    },
    {
      "cell_type": "code",
      "execution_count": null,
      "metadata": {
        "id": "QJyVXu663A3P"
      },
      "outputs": [],
      "source": [
        "!pip install -q kaggle"
      ]
    },
    {
      "cell_type": "markdown",
      "source": [
        "**Importing the Necessary Libraries**"
      ],
      "metadata": {
        "id": "wX2NT2Eu3PB_"
      }
    },
    {
      "cell_type": "code",
      "source": [
        "import torch\n",
        "import torchvision.transforms as transforms\n",
        "import torchvision.datasets as datasets\n",
        "from torch.utils.data import DataLoader\n",
        "\n",
        "import tensorflow as tf\n",
        "from tensorflow.keras.preprocessing.image import ImageDataGenerator\n",
        "\n",
        "import numpy as np\n",
        "from tensorflow.keras.applications import VGG16\n",
        "from tensorflow.keras.layers import Dense, GlobalAveragePooling2D\n",
        "from tensorflow.keras.models import Model\n",
        "from tensorflow.keras import layers, models\n",
        "\n",
        "import matplotlib.pyplot as plt\n",
        "\n",
        "from PIL import Image\n",
        "import os\n",
        "import re"
      ],
      "metadata": {
        "id": "2xgQtwEv3S-E"
      },
      "execution_count": null,
      "outputs": []
    },
    {
      "cell_type": "markdown",
      "source": [
        "**Kaggle API Connection**"
      ],
      "metadata": {
        "id": "LIoFgxTV3c8O"
      }
    },
    {
      "cell_type": "code",
      "source": [
        "from google.colab import files\n",
        "files.upload()"
      ],
      "metadata": {
        "colab": {
          "base_uri": "https://localhost:8080/",
          "height": 91
        },
        "id": "NJID14Hg3aGx",
        "outputId": "edb99bf9-a830-4546-ed05-7e6e334156f8"
      },
      "execution_count": null,
      "outputs": [
        {
          "output_type": "display_data",
          "data": {
            "text/plain": [
              "<IPython.core.display.HTML object>"
            ],
            "text/html": [
              "\n",
              "     <input type=\"file\" id=\"files-e8a4567e-709d-41c9-af32-9590cdcb3f7d\" name=\"files[]\" multiple disabled\n",
              "        style=\"border:none\" />\n",
              "     <output id=\"result-e8a4567e-709d-41c9-af32-9590cdcb3f7d\">\n",
              "      Upload widget is only available when the cell has been executed in the\n",
              "      current browser session. Please rerun this cell to enable.\n",
              "      </output>\n",
              "      <script>// Copyright 2017 Google LLC\n",
              "//\n",
              "// Licensed under the Apache License, Version 2.0 (the \"License\");\n",
              "// you may not use this file except in compliance with the License.\n",
              "// You may obtain a copy of the License at\n",
              "//\n",
              "//      http://www.apache.org/licenses/LICENSE-2.0\n",
              "//\n",
              "// Unless required by applicable law or agreed to in writing, software\n",
              "// distributed under the License is distributed on an \"AS IS\" BASIS,\n",
              "// WITHOUT WARRANTIES OR CONDITIONS OF ANY KIND, either express or implied.\n",
              "// See the License for the specific language governing permissions and\n",
              "// limitations under the License.\n",
              "\n",
              "/**\n",
              " * @fileoverview Helpers for google.colab Python module.\n",
              " */\n",
              "(function(scope) {\n",
              "function span(text, styleAttributes = {}) {\n",
              "  const element = document.createElement('span');\n",
              "  element.textContent = text;\n",
              "  for (const key of Object.keys(styleAttributes)) {\n",
              "    element.style[key] = styleAttributes[key];\n",
              "  }\n",
              "  return element;\n",
              "}\n",
              "\n",
              "// Max number of bytes which will be uploaded at a time.\n",
              "const MAX_PAYLOAD_SIZE = 100 * 1024;\n",
              "\n",
              "function _uploadFiles(inputId, outputId) {\n",
              "  const steps = uploadFilesStep(inputId, outputId);\n",
              "  const outputElement = document.getElementById(outputId);\n",
              "  // Cache steps on the outputElement to make it available for the next call\n",
              "  // to uploadFilesContinue from Python.\n",
              "  outputElement.steps = steps;\n",
              "\n",
              "  return _uploadFilesContinue(outputId);\n",
              "}\n",
              "\n",
              "// This is roughly an async generator (not supported in the browser yet),\n",
              "// where there are multiple asynchronous steps and the Python side is going\n",
              "// to poll for completion of each step.\n",
              "// This uses a Promise to block the python side on completion of each step,\n",
              "// then passes the result of the previous step as the input to the next step.\n",
              "function _uploadFilesContinue(outputId) {\n",
              "  const outputElement = document.getElementById(outputId);\n",
              "  const steps = outputElement.steps;\n",
              "\n",
              "  const next = steps.next(outputElement.lastPromiseValue);\n",
              "  return Promise.resolve(next.value.promise).then((value) => {\n",
              "    // Cache the last promise value to make it available to the next\n",
              "    // step of the generator.\n",
              "    outputElement.lastPromiseValue = value;\n",
              "    return next.value.response;\n",
              "  });\n",
              "}\n",
              "\n",
              "/**\n",
              " * Generator function which is called between each async step of the upload\n",
              " * process.\n",
              " * @param {string} inputId Element ID of the input file picker element.\n",
              " * @param {string} outputId Element ID of the output display.\n",
              " * @return {!Iterable<!Object>} Iterable of next steps.\n",
              " */\n",
              "function* uploadFilesStep(inputId, outputId) {\n",
              "  const inputElement = document.getElementById(inputId);\n",
              "  inputElement.disabled = false;\n",
              "\n",
              "  const outputElement = document.getElementById(outputId);\n",
              "  outputElement.innerHTML = '';\n",
              "\n",
              "  const pickedPromise = new Promise((resolve) => {\n",
              "    inputElement.addEventListener('change', (e) => {\n",
              "      resolve(e.target.files);\n",
              "    });\n",
              "  });\n",
              "\n",
              "  const cancel = document.createElement('button');\n",
              "  inputElement.parentElement.appendChild(cancel);\n",
              "  cancel.textContent = 'Cancel upload';\n",
              "  const cancelPromise = new Promise((resolve) => {\n",
              "    cancel.onclick = () => {\n",
              "      resolve(null);\n",
              "    };\n",
              "  });\n",
              "\n",
              "  // Wait for the user to pick the files.\n",
              "  const files = yield {\n",
              "    promise: Promise.race([pickedPromise, cancelPromise]),\n",
              "    response: {\n",
              "      action: 'starting',\n",
              "    }\n",
              "  };\n",
              "\n",
              "  cancel.remove();\n",
              "\n",
              "  // Disable the input element since further picks are not allowed.\n",
              "  inputElement.disabled = true;\n",
              "\n",
              "  if (!files) {\n",
              "    return {\n",
              "      response: {\n",
              "        action: 'complete',\n",
              "      }\n",
              "    };\n",
              "  }\n",
              "\n",
              "  for (const file of files) {\n",
              "    const li = document.createElement('li');\n",
              "    li.append(span(file.name, {fontWeight: 'bold'}));\n",
              "    li.append(span(\n",
              "        `(${file.type || 'n/a'}) - ${file.size} bytes, ` +\n",
              "        `last modified: ${\n",
              "            file.lastModifiedDate ? file.lastModifiedDate.toLocaleDateString() :\n",
              "                                    'n/a'} - `));\n",
              "    const percent = span('0% done');\n",
              "    li.appendChild(percent);\n",
              "\n",
              "    outputElement.appendChild(li);\n",
              "\n",
              "    const fileDataPromise = new Promise((resolve) => {\n",
              "      const reader = new FileReader();\n",
              "      reader.onload = (e) => {\n",
              "        resolve(e.target.result);\n",
              "      };\n",
              "      reader.readAsArrayBuffer(file);\n",
              "    });\n",
              "    // Wait for the data to be ready.\n",
              "    let fileData = yield {\n",
              "      promise: fileDataPromise,\n",
              "      response: {\n",
              "        action: 'continue',\n",
              "      }\n",
              "    };\n",
              "\n",
              "    // Use a chunked sending to avoid message size limits. See b/62115660.\n",
              "    let position = 0;\n",
              "    do {\n",
              "      const length = Math.min(fileData.byteLength - position, MAX_PAYLOAD_SIZE);\n",
              "      const chunk = new Uint8Array(fileData, position, length);\n",
              "      position += length;\n",
              "\n",
              "      const base64 = btoa(String.fromCharCode.apply(null, chunk));\n",
              "      yield {\n",
              "        response: {\n",
              "          action: 'append',\n",
              "          file: file.name,\n",
              "          data: base64,\n",
              "        },\n",
              "      };\n",
              "\n",
              "      let percentDone = fileData.byteLength === 0 ?\n",
              "          100 :\n",
              "          Math.round((position / fileData.byteLength) * 100);\n",
              "      percent.textContent = `${percentDone}% done`;\n",
              "\n",
              "    } while (position < fileData.byteLength);\n",
              "  }\n",
              "\n",
              "  // All done.\n",
              "  yield {\n",
              "    response: {\n",
              "      action: 'complete',\n",
              "    }\n",
              "  };\n",
              "}\n",
              "\n",
              "scope.google = scope.google || {};\n",
              "scope.google.colab = scope.google.colab || {};\n",
              "scope.google.colab._files = {\n",
              "  _uploadFiles,\n",
              "  _uploadFilesContinue,\n",
              "};\n",
              "})(self);\n",
              "</script> "
            ]
          },
          "metadata": {}
        },
        {
          "output_type": "stream",
          "name": "stdout",
          "text": [
            "Saving kaggle.json to kaggle.json\n"
          ]
        },
        {
          "output_type": "execute_result",
          "data": {
            "text/plain": [
              "{'kaggle.json': b'{\"username\":\"sahmed91\",\"key\":\"c5b16cdecc09a1afd14c6eee9797b663\"}'}"
            ]
          },
          "metadata": {},
          "execution_count": 3
        }
      ]
    },
    {
      "cell_type": "markdown",
      "source": [
        "Importing The Dataset From Kaggle"
      ],
      "metadata": {
        "id": "4V6bmgFi3yMF"
      }
    },
    {
      "cell_type": "code",
      "source": [
        "!mkdir ~/kaggle\n",
        "!cp /content/kaggle.json ~/kaggle\n",
        "!chmod 600 ~/kaggle/kaggle.json\n",
        "!mkdir /content/dataset"
      ],
      "metadata": {
        "id": "bDnt87xb33zF"
      },
      "execution_count": null,
      "outputs": []
    },
    {
      "cell_type": "code",
      "source": [
        "# Replace 'content' with the directory where 'kaggle.json' (The API file) is located\n",
        "os.environ['KAGGLE_CONFIG_DIR'] = \"/content/\""
      ],
      "metadata": {
        "id": "qy81VXDC4GIa"
      },
      "execution_count": null,
      "outputs": []
    },
    {
      "cell_type": "code",
      "source": [
        "# Downloading the dataset\n",
        "!kaggle datasets download -d jayaprakashpondy/ecgimages -p /content/dataset\n",
        "# Unzipping the kaggle dataset\n",
        "!unzip -q /content/dataset/ecgimages.zip -d /content/dataset"
      ],
      "metadata": {
        "colab": {
          "base_uri": "https://localhost:8080/"
        },
        "id": "qG1-0DQ94QzS",
        "outputId": "3f350839-fa43-4370-ae24-03d9ec0e54b5"
      },
      "execution_count": null,
      "outputs": [
        {
          "output_type": "stream",
          "name": "stdout",
          "text": [
            "Warning: Your Kaggle API key is readable by other users on this system! To fix this, you can run 'chmod 600 /content/kaggle.json'\n",
            "Downloading ecgimages.zip to /content/dataset\n",
            " 98% 281M/286M [00:10<00:00, 45.9MB/s]\n",
            "100% 286M/286M [00:10<00:00, 28.7MB/s]\n"
          ]
        }
      ]
    },
    {
      "cell_type": "markdown",
      "source": [
        "**Changing Folder Names to Something Simpler**"
      ],
      "metadata": {
        "id": "gZdrwaBQ4q71"
      }
    },
    {
      "cell_type": "code",
      "source": [
        "import os\n",
        "\n",
        "def rename_subfolders(folder_path):\n",
        "    for root, dirs, files in os.walk(folder_path):\n",
        "        for dir_name in dirs:\n",
        "            old_name = os.path.join(root, dir_name)\n",
        "            new_name = os.path.join(root, dir_name)  # Rename the subfolder here\n",
        "            if old_name == '/content/dataset/train/Normal Person ECG Images (284x12=3408)':\n",
        "              new_name = os.path.join(root, \"normal\")\n",
        "            elif old_name == '/content/dataset/train/ECG Images of Patient that have abnormal heartbeat (233x12=2796)':\n",
        "              new_name = os.path.join(root, \"abnormal heartbeat\")\n",
        "            elif old_name == '/content/dataset/train/ECG Images of Patient that have History of MI (172x12=2064)':\n",
        "              new_name = os.path.join(root, \"history_of_mi\")\n",
        "            elif old_name == '/content/dataset/train/ECG Images of Myocardial Infarction Patients (240x12=2880)':\n",
        "              new_name = os.path.join(root, \"myocardial_infarction\")\n",
        "            elif old_name == '/content/dataset/test/Normal Person ECG Images (284x12=3408)':\n",
        "              new_name = os.path.join(root, \"normal\")\n",
        "            elif old_name == '/content/dataset/test/ECG Images of Patient that have abnormal heartbeat (233x12=2796)':\n",
        "              new_name = os.path.join(root, \"abnormal heartbeat\")\n",
        "            elif old_name == '/content/dataset/test/ECG Images of Patient that have History of MI (172x12=2064)':\n",
        "              new_name = os.path.join(root, \"history_of_mi\")\n",
        "            elif old_name == '/content/dataset/test/ECG Images of Myocardial Infarction Patients (240x12=2880)':\n",
        "              new_name = os.path.join(root, \"myocardial_infarction\")\n",
        "\n",
        "            os.rename(old_name, new_name)\n",
        "            print(new_name)\n",
        "\n",
        "# Example usage\n",
        "# folder_path = '/content/dataset/test'\n",
        "rename_subfolders('/content/dataset/train')\n",
        "rename_subfolders('/content/dataset/test')\n"
      ],
      "metadata": {
        "colab": {
          "base_uri": "https://localhost:8080/"
        },
        "id": "_afZlEb64aQY",
        "outputId": "9a478644-90d7-4855-b692-754ae599b7b5"
      },
      "execution_count": null,
      "outputs": [
        {
          "output_type": "stream",
          "name": "stdout",
          "text": [
            "/content/dataset/train/abnormal heartbeat\n",
            "/content/dataset/train/history_of_mi\n",
            "/content/dataset/train/myocardial_infarction\n",
            "/content/dataset/train/normal\n",
            "/content/dataset/test/abnormal heartbeat\n",
            "/content/dataset/test/history_of_mi\n",
            "/content/dataset/test/myocardial_infarction\n",
            "/content/dataset/test/normal\n"
          ]
        }
      ]
    },
    {
      "cell_type": "markdown",
      "source": [
        "**Preparing the Data For Training**"
      ],
      "metadata": {
        "id": "nuHY8x7l42NB"
      }
    },
    {
      "cell_type": "code",
      "source": [
        "# Define data paths\n",
        "train_data_dir = '/content/dataset/train'\n",
        "valid_data_dir = '/content/dataset/test'\n",
        "\n",
        "# Define image parameters\n",
        "img_width, img_height = 100, 71\n",
        "batch_size = 32 # Hyperparameter"
      ],
      "metadata": {
        "id": "SOHEwIEp478_"
      },
      "execution_count": null,
      "outputs": []
    },
    {
      "cell_type": "code",
      "source": [
        "# Data augmentation and normalization\n",
        "train_datagen = ImageDataGenerator(\n",
        "    rescale=1.0 / 255,\n",
        "    shear_range=0.2,\n",
        "    zoom_range=0.2,\n",
        "    horizontal_flip=True\n",
        ")\n",
        "\n",
        "valid_datagen = ImageDataGenerator(rescale=1.0 / 255)\n",
        "\n",
        "# Load the data using the generators\n",
        "train_generator = train_datagen.flow_from_directory(\n",
        "    train_data_dir,\n",
        "    target_size=(img_width, img_height),\n",
        "    batch_size=batch_size,\n",
        "    class_mode='categorical'  # For binary classification, use 'categorical' for multiclass\n",
        ")\n",
        "\n",
        "validation_generator = valid_datagen.flow_from_directory(\n",
        "    valid_data_dir,\n",
        "    target_size=(img_width, img_height),\n",
        "    batch_size=batch_size,\n",
        "    class_mode='categorical'  # For binary classification, use 'categorical' for multiclass\n",
        ")"
      ],
      "metadata": {
        "colab": {
          "base_uri": "https://localhost:8080/"
        },
        "id": "RgdXqwQI5FF9",
        "outputId": "ee68acf4-9899-43e9-b7db-44df66fd12d4"
      },
      "execution_count": null,
      "outputs": [
        {
          "output_type": "stream",
          "name": "stdout",
          "text": [
            "Found 928 images belonging to 4 classes.\n",
            "Found 448 images belonging to 4 classes.\n"
          ]
        }
      ]
    },
    {
      "cell_type": "code",
      "source": [
        "training_images, training_labels = next(train_generator)\n",
        "test_images, test_labels = next(validation_generator)\n",
        "print(\"Shape of images batch:\", training_images.shape)\n",
        "print(\"Shape of labels batch:\", training_labels.shape)"
      ],
      "metadata": {
        "colab": {
          "base_uri": "https://localhost:8080/"
        },
        "id": "EeYL1xpL5Ji5",
        "outputId": "e60570d0-d9a3-4586-b6cd-1362febfb2c9"
      },
      "execution_count": null,
      "outputs": [
        {
          "output_type": "stream",
          "name": "stdout",
          "text": [
            "Shape of images batch: (32, 100, 71, 3)\n",
            "Shape of labels batch: (32, 4)\n"
          ]
        }
      ]
    },
    {
      "cell_type": "code",
      "source": [
        "# Load a pre-trained VGG16 model without the top classification layers\n",
        "base_model = VGG16(weights='imagenet', include_top=False, input_shape=(img_width, img_height, 3))\n",
        "\n",
        "# Add your custom classification layers on top of the base model\n",
        "x = base_model.output\n",
        "x = GlobalAveragePooling2D()(x)\n",
        "x = Dense(256, activation='relu')(x)\n",
        "predictions = Dense(len(list(train_generator.class_indices.keys())), activation='sigmoid')(x)  # For multi-label classification\n",
        "\n",
        "# Create the final model for training\n",
        "model = Model(inputs=base_model.input, outputs=predictions)\n",
        "\n",
        "# Freeze the base model layers to avoid changing their weights during training\n",
        "for layer in base_model.layers:\n",
        "    layer.trainable = False\n",
        "\n",
        "# Compile the model with appropriate loss function and metrics for multi-label classification\n",
        "model.compile(optimizer='adam', loss='binary_crossentropy', metrics=['accuracy'])\n",
        "\n",
        "# Train the model using the generators\n",
        "epochs = 10  # Choose an appropriate number of epochs\n",
        "\n",
        "training = model.fit(\n",
        "    train_generator,\n",
        "    steps_per_epoch=928 // batch_size,\n",
        "    epochs=epochs,\n",
        "    validation_data=validation_generator,\n",
        "    validation_steps=448 // batch_size\n",
        ")\n"
      ],
      "metadata": {
        "colab": {
          "base_uri": "https://localhost:8080/"
        },
        "id": "8kIlnswP6FGO",
        "outputId": "bd58486b-68a3-417d-a25d-a9063c6663aa"
      },
      "execution_count": null,
      "outputs": [
        {
          "output_type": "stream",
          "name": "stdout",
          "text": [
            "Epoch 1/10\n",
            "29/29 [==============================] - 183s 6s/step - loss: 0.5917 - accuracy: 0.3060 - val_loss: 0.5492 - val_accuracy: 0.4442\n",
            "Epoch 2/10\n",
            "29/29 [==============================] - 143s 5s/step - loss: 0.5316 - accuracy: 0.4256 - val_loss: 0.5366 - val_accuracy: 0.3326\n",
            "Epoch 3/10\n",
            "29/29 [==============================] - 178s 6s/step - loss: 0.5184 - accuracy: 0.4278 - val_loss: 0.5217 - val_accuracy: 0.4040\n",
            "Epoch 4/10\n",
            "29/29 [==============================] - 144s 5s/step - loss: 0.4983 - accuracy: 0.4989 - val_loss: 0.5058 - val_accuracy: 0.4375\n",
            "Epoch 5/10\n",
            "29/29 [==============================] - 179s 6s/step - loss: 0.4895 - accuracy: 0.5086 - val_loss: 0.4903 - val_accuracy: 0.5402\n",
            "Epoch 6/10\n",
            "29/29 [==============================] - 181s 6s/step - loss: 0.4828 - accuracy: 0.4978 - val_loss: 0.4837 - val_accuracy: 0.4688\n",
            "Epoch 7/10\n",
            "29/29 [==============================] - 180s 6s/step - loss: 0.4771 - accuracy: 0.5151 - val_loss: 0.4704 - val_accuracy: 0.5290\n",
            "Epoch 8/10\n",
            "29/29 [==============================] - 180s 6s/step - loss: 0.4660 - accuracy: 0.5496 - val_loss: 0.4688 - val_accuracy: 0.4933\n",
            "Epoch 9/10\n",
            "29/29 [==============================] - 181s 6s/step - loss: 0.4656 - accuracy: 0.5259 - val_loss: 0.4703 - val_accuracy: 0.4933\n",
            "Epoch 10/10\n",
            "29/29 [==============================] - 179s 6s/step - loss: 0.4646 - accuracy: 0.5259 - val_loss: 0.4698 - val_accuracy: 0.4643\n"
          ]
        }
      ]
    },
    {
      "cell_type": "markdown",
      "source": [
        "**Accuracy Graph**"
      ],
      "metadata": {
        "id": "HbPBKwhiDs4h"
      }
    },
    {
      "cell_type": "code",
      "source": [
        "training_accuracy = training.history['accuracy']\n",
        "validation_accuracy = training.history['val_accuracy']\n",
        "\n",
        "plt.plot(training_accuracy, label='Training Accuracy')\n",
        "plt.plot(validation_accuracy, label='Validation Accuracy')\n",
        "plt.xlabel('Epoch')\n",
        "plt.ylabel('Accuracy')\n",
        "plt.title('Training and Validation Accuracy')\n",
        "plt.legend()\n",
        "plt.show()"
      ],
      "metadata": {
        "colab": {
          "base_uri": "https://localhost:8080/",
          "height": 472
        },
        "id": "cy1tpbHuDd0A",
        "outputId": "ef56e0a0-1ac0-4746-aed4-0287e309327e"
      },
      "execution_count": null,
      "outputs": [
        {
          "output_type": "display_data",
          "data": {
            "text/plain": [
              "<Figure size 640x480 with 1 Axes>"
            ],
            "image/png": "[encoded data removed]"
          },
          "metadata": {}
        }
      ]
    },
    {
      "cell_type": "markdown",
      "source": [
        "**Loss Graph**"
      ],
      "metadata": {
        "id": "3D4-T9stD3ts"
      }
    },
    {
      "cell_type": "code",
      "source": [
        "training_loss = training.history['loss']\n",
        "validation_loss = training.history['val_loss']\n",
        "\n",
        "plt.plot(training_loss, label='Training Loss')\n",
        "plt.plot(validation_loss, label='Validation Loss')\n",
        "plt.xlabel('Epoch')\n",
        "plt.ylabel('Loss')\n",
        "plt.title('Training and Validation Loss')\n",
        "plt.legend()\n",
        "plt.show()"
      ],
      "metadata": {
        "colab": {
          "base_uri": "https://localhost:8080/",
          "height": 472
        },
        "id": "dlTtbXznD8GR",
        "outputId": "f922707c-832f-40cd-a108-6187b2dc0514"
      },
      "execution_count": null,
      "outputs": [
        {
          "output_type": "display_data",
          "data": {
            "text/plain": [
              "<Figure size 640x480 with 1 Axes>"
            ],
            "image/png": "[encoded data removed]"
          },
          "metadata": {}
        }
      ]
    },
    {
      "cell_type": "markdown",
      "source": [
        "**Precision and Recall Curve**"
      ],
      "metadata": {
        "id": "NsAp0O1REDoD"
      }
    },
    {
      "cell_type": "code",
      "source": [
        "import numpy as np\n",
        "from sklearn.metrics import precision_score, recall_score, confusion_matrix, precision_recall_curve\n",
        "import matplotlib.pyplot as plt\n",
        "import seaborn as sns\n",
        "import tensorflow as tf\n",
        "from tensorflow.keras.applications import VGG16\n",
        "from tensorflow.keras.layers import GlobalAveragePooling2D, Dense\n",
        "from tensorflow.keras.models import Model\n",
        "from tensorflow.keras.preprocessing.image import ImageDataGenerator\n",
        "\n",
        "# Make predictions on validation data\n",
        "predictions = model.predict(validation_generator)\n",
        "\n",
        "# Convert predicted probabilities to class labels\n",
        "predicted_labels = np.argmax(predictions, axis=1)\n",
        "\n",
        "# Get true labels from the validation generator\n",
        "true_labels = validation_generator.classes\n",
        "\n",
        "# Calculate precision and recall for each class\n",
        "precision_per_class = precision_score(true_labels, predicted_labels, average=None)\n",
        "recall_per_class = recall_score(true_labels, predicted_labels, average=None)\n",
        "\n",
        "# Calculate overall precision and recall\n",
        "precision_macro = precision_score(true_labels, predicted_labels, average='macro')\n",
        "recall_macro = recall_score(true_labels, predicted_labels, average='macro')\n",
        "\n",
        "# Calculate confusion matrix\n",
        "conf_matrix = confusion_matrix(true_labels, predicted_labels)\n",
        "\n",
        "# Print the results\n",
        "print(\"Precision per class:\", precision_per_class)\n",
        "print(\"Recall per class:\", recall_per_class)\n",
        "print(\"Macro-Averaged Precision:\", precision_macro)\n",
        "print(\"Macro-Averaged Recall:\", recall_macro)\n",
        "print(\"Confusion Matrix:\\n\", conf_matrix)\n",
        "\n",
        "# Create precision-recall curve for each class (assuming binary classification for each class)\n",
        "plt.figure(figsize=(8, 6))\n",
        "for class_idx in range(4):\n",
        "    precision_curve, recall_curve, _ = precision_recall_curve(\n",
        "        true_labels == class_idx, predictions[:, class_idx]\n",
        "    )\n",
        "    plt.plot(recall_curve, precision_curve, label=f'Class {class_idx}')\n",
        "plt.xlabel('Recall')\n",
        "plt.ylabel('Precision')\n",
        "plt.title('Precision-Recall Curves')\n",
        "plt.legend()\n",
        "plt.grid()\n",
        "plt.show()"
      ],
      "metadata": {
        "colab": {
          "base_uri": "https://localhost:8080/",
          "height": 746
        },
        "id": "JQAeKbp2EDEp",
        "outputId": "4cabf5a7-4e02-4dad-96e2-b6f962022465"
      },
      "execution_count": null,
      "outputs": [
        {
          "output_type": "stream",
          "name": "stdout",
          "text": [
            "14/14 [==============================] - 46s 3s/step\n",
            "Precision per class: [0.18867925 0.3125     0.27272727 0.26217228]\n",
            "Recall per class: [0.17857143 0.17857143 0.02678571 0.625     ]\n",
            "Macro-Averaged Precision: 0.25901970066362157\n",
            "Macro-Averaged Recall: 0.25223214285714285\n",
            "Confusion Matrix:\n",
            " [[20 15  4 73]\n",
            " [28 20  2 62]\n",
            " [33 14  3 62]\n",
            " [25 15  2 70]]\n"
          ]
        },
        {
          "output_type": "display_data",
          "data": {
            "text/plain": [
              "<Figure size 800x600 with 1 Axes>"
            ],
            "image/png": "[encoded data removed]"
          },
          "metadata": {}
        }
      ]
    },
    {
      "cell_type": "markdown",
      "source": [
        "**Specificity Graph**"
      ],
      "metadata": {
        "id": "cIhUqaheGM2M"
      }
    },
    {
      "cell_type": "code",
      "source": [
        "class_labels = list(train_generator.class_indices.keys())\n",
        "\n",
        "# Calculate specificity for each class\n",
        "def specificity(y_true, y_pred):\n",
        "    true_negatives = np.sum((y_true == 0) & (y_pred == 0))\n",
        "    total_negatives = np.sum(y_true == 0)\n",
        "    return true_negatives / (total_negatives + 1e-6)\n",
        "\n",
        "specificity_per_class = [specificity(true_labels == class_idx, predicted_labels == class_idx) for class_idx in range(len(class_labels))]\n",
        "\n",
        "# Calculate overall specificity\n",
        "macro_specificity = np.mean(specificity_per_class)\n",
        "\n",
        "# Print the results\n",
        "print(\"Specificity per class:\", specificity_per_class)\n",
        "print(\"Macro-Averaged Specificity:\", macro_specificity)\n",
        "\n",
        "# Plot the specificity for each class\n",
        "plt.figure(figsize=(8, 6))\n",
        "plt.bar(range(len(class_labels)), specificity_per_class, tick_label=range(len(class_labels)))\n",
        "plt.xlabel('Class')\n",
        "plt.ylabel('Specificity')\n",
        "plt.title('Specificity per Class')\n",
        "plt.show()"
      ],
      "metadata": {
        "colab": {
          "base_uri": "https://localhost:8080/",
          "height": 620
        },
        "id": "wl7jhYM5GPWx",
        "outputId": "f445f71b-e224-4303-c2de-11570eb3f16f"
      },
      "execution_count": null,
      "outputs": [
        {
          "output_type": "stream",
          "name": "stdout",
          "text": [
            "Specificity per class: [0.7440476168331916, 0.8690476164611678, 0.9761904732851474, 0.41369047495925454]\n",
            "Macro-Averaged Specificity: 0.7507440453846903\n"
          ]
        },
        {
          "output_type": "display_data",
          "data": {
            "text/plain": [
              "<Figure size 800x600 with 1 Axes>"
            ],
            "image/png": "[encoded data removed]"
          },
          "metadata": {}
        }
      ]
    },
    {
      "cell_type": "markdown",
      "source": [
        "**Saving the Model**"
      ],
      "metadata": {
        "id": "dIU7HRwHG7mN"
      }
    },
    {
      "cell_type": "code",
      "source": [
        "model.save('/content/Model/ecg_multilabel_model.h5')"
      ],
      "metadata": {
        "id": "0IT4ByQvG_G_"
      },
      "execution_count": null,
      "outputs": []
    },
    {
      "cell_type": "markdown",
      "source": [
        "**Testing The Model**"
      ],
      "metadata": {
        "id": "t_J8JixYHaUy"
      }
    },
    {
      "cell_type": "code",
      "source": [
        "from keras.preprocessing.image import ImageDataGenerator\n",
        "\n",
        "# Define the path to your test data folder\n",
        "# test_data_dir = 'path/to/test_data_folder'\n",
        "\n",
        "# Set the batch size for the test data generator\n",
        "batch_size = 32  # Choose an appropriate batch size based on your system's memory and GPU capacity\n",
        "\n",
        "# Create a test data generator with normalization but without data augmentation\n",
        "test_datagen = ImageDataGenerator(rescale=1.0 / 255)\n",
        "\n",
        "# Create the test data generator\n",
        "test_generator = test_datagen.flow_from_directory(\n",
        "    valid_data_dir,\n",
        "    target_size=(img_width, img_height),\n",
        "    batch_size=batch_size,\n",
        "    class_mode='categorical',\n",
        "    shuffle=False  # Set shuffle to False to maintain the order of images for evaluation\n",
        ")"
      ],
      "metadata": {
        "colab": {
          "base_uri": "https://localhost:8080/"
        },
        "id": "n3k9e2mjHsh3",
        "outputId": "8fd62f07-a355-4ff0-845c-bee0c4dbcabc"
      },
      "execution_count": null,
      "outputs": [
        {
          "output_type": "stream",
          "name": "stdout",
          "text": [
            "Found 448 images belonging to 4 classes.\n"
          ]
        }
      ]
    },
    {
      "cell_type": "code",
      "source": [
        "from keras.models import load_model\n",
        "\n",
        "# Load the saved model\n",
        "model = load_model('/content/Model/ecg_multilabel_model.h5')\n",
        "\n",
        "# Assuming you have a test_generator for generating test data, similar to train_generator and validation_generator\n",
        "num_test_samples = len(test_generator.filenames)\n",
        "\n",
        "# Evaluate the model on the test data\n",
        "test_loss, test_accuracy = model.evaluate_generator(test_generator, steps=num_test_samples // batch_size)\n",
        "\n",
        "print('Test Loss:', test_loss)\n",
        "print('Test Accuracy:', test_accuracy)\n"
      ],
      "metadata": {
        "colab": {
          "base_uri": "https://localhost:8080/"
        },
        "id": "Nrp_aMAZHdlB",
        "outputId": "ca8ec0c5-c5ed-4f5a-ae89-93263d0b4504"
      },
      "execution_count": null,
      "outputs": [
        {
          "output_type": "stream",
          "name": "stderr",
          "text": [
            "<ipython-input-24-df9d2343f757>:10: UserWarning: `Model.evaluate_generator` is deprecated and will be removed in a future version. Please use `Model.evaluate`, which supports generators.\n",
            "  test_loss, test_accuracy = model.evaluate_generator(test_generator, steps=num_test_samples // batch_size)\n"
          ]
        },
        {
          "output_type": "stream",
          "name": "stdout",
          "text": [
            "Test Loss: 0.46977391839027405\n",
            "Test Accuracy: 0.4642857015132904\n"
          ]
        }
      ]
    },
    {
      "cell_type": "code",
      "source": [
        "# Assuming you have already trained and saved the model\n",
        "\n",
        "# Load the trained model\n",
        "from tensorflow.keras.models import load_model\n",
        "\n",
        "model = load_model('/content/Model/ecg_multilabel_model.h5')\n",
        "\n",
        "# Assuming you have a test dataset for prediction\n",
        "# Load and preprocess the test data\n",
        "\n",
        "# Make predictions on the test data\n",
        "predictions = model.predict(test_generator)\n",
        "\n",
        "# Assuming you have a threshold for deciding the label predictions\n",
        "threshold = 0.5\n",
        "\n",
        "# Convert the predicted probabilities to binary labels based on the threshold\n",
        "binary_predictions = (predictions > threshold).astype(int)\n",
        "\n",
        "# Assuming you have a list of label names\n",
        "label_names = list(train_generator.class_indices.keys())\n",
        "\n",
        "# Print the predicted labels for each sample\n",
        "for i in range(len(test_generator)):\n",
        "    predicted_labels = [label_names[j] for j in range(len(label_names)) if binary_predictions[i][j] == 1]\n",
        "    print(f\"Sample {i+1}: Predicted Labels: {predicted_labels}\")\n"
      ],
      "metadata": {
        "colab": {
          "base_uri": "https://localhost:8080/"
        },
        "id": "NJQOvru1IFhv",
        "outputId": "e17c6dda-9086-4a73-bace-0040b50abcec"
      },
      "execution_count": null,
      "outputs": [
        {
          "output_type": "stream",
          "name": "stdout",
          "text": [
            "14/14 [==============================] - 44s 3s/step\n",
            "Sample 1: Predicted Labels: []\n",
            "Sample 2: Predicted Labels: ['abnormal heartbeat']\n",
            "Sample 3: Predicted Labels: []\n",
            "Sample 4: Predicted Labels: []\n",
            "Sample 5: Predicted Labels: ['abnormal heartbeat']\n",
            "Sample 6: Predicted Labels: []\n",
            "Sample 7: Predicted Labels: []\n",
            "Sample 8: Predicted Labels: ['abnormal heartbeat']\n",
            "Sample 9: Predicted Labels: ['abnormal heartbeat']\n",
            "Sample 10: Predicted Labels: ['normal']\n",
            "Sample 11: Predicted Labels: ['abnormal heartbeat', 'history_of_mi']\n",
            "Sample 12: Predicted Labels: []\n",
            "Sample 13: Predicted Labels: []\n",
            "Sample 14: Predicted Labels: ['abnormal heartbeat']\n"
          ]
        }
      ]
    },
    {
      "cell_type": "code",
      "source": [
        "print(train_generator)\n",
        "print(class_labels)"
      ],
      "metadata": {
        "colab": {
          "base_uri": "https://localhost:8080/"
        },
        "id": "SS1PtxGzPoJ3",
        "outputId": "706918b0-9662-4b56-94b0-3626873913de"
      },
      "execution_count": null,
      "outputs": [
        {
          "output_type": "stream",
          "name": "stdout",
          "text": [
            "<keras.preprocessing.image.DirectoryIterator object at 0x78fd7a46fc10>\n",
            "['abnormal heartbeat', 'history_of_mi', 'myocardial_infarction', 'normal']\n"
          ]
        }
      ]
    },
    {
      "cell_type": "code",
      "source": [
        "from tensorflow.keras.preprocessing import image\n",
        "import numpy as np\n",
        "\n",
        "# Assuming you have a single file path\n",
        "file_path = '/content/dataset/train/normal/Normal(10).jpg'\n",
        "\n",
        "# Load and preprocess the file data\n",
        "img = image.load_img(file_path, target_size=(img_width, img_height))\n",
        "img_array = image.img_to_array(img)\n",
        "img_array = np.expand_dims(img_array, axis=0)\n",
        "\n",
        "# Make prediction on the preprocessed image\n",
        "prediction = model.predict(img_array)\n",
        "\n",
        "# Assuming you have a list of label names\n",
        "label_names = ['abnormal heartbeat', 'history_of_mi', 'myocardial_infarction', 'normal']\n",
        "\n",
        "# Calculate the percentages of labels\n",
        "label_percentages = (prediction[0] * 100).tolist()\n",
        "\n",
        "# Print the label names and their corresponding percentages\n",
        "for label, percentage in zip(label_names, label_percentages):\n",
        "    print(f\"{label}: {percentage}%\")\n"
      ],
      "metadata": {
        "colab": {
          "base_uri": "https://localhost:8080/"
        },
        "id": "Sy5b77iMK5S0",
        "outputId": "887c900c-0fac-4e2b-b55c-326a1b281d9a"
      },
      "execution_count": null,
      "outputs": [
        {
          "output_type": "stream",
          "name": "stdout",
          "text": [
            "1/1 [==============================] - 0s 429ms/step\n",
            "abnormal heartbeat: 100.0%\n",
            "history_of_mi: 100.0%\n",
            "myocardial_infarction: 0.0%\n",
            "normal: 0.0%\n"
          ]
        }
      ]
    }
  ]
}